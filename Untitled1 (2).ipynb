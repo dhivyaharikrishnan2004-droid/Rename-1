{
 "cells": [
  {
   "cell_type": "markdown",
   "id": "47586401-f141-4475-9d87-270138e15ec5",
   "metadata": {},
   "source": [
    "# Tools for Data science"
   ]
  },
  {
   "cell_type": "code",
   "execution_count": null,
   "id": "91a453e8-d00a-4a00-9045-1c2626baebbb",
   "metadata": {},
   "outputs": [],
   "source": []
  }
 ],
 "metadata": {
  "kernelspec": {
   "display_name": "Python 3 (ipykernel)",
   "language": "python",
   "name": "python3"
  },
  "language_info": {
   "codemirror_mode": {
    "name": "ipython",
    "version": 3
   },
   "file_extension": ".py",
   "mimetype": "text/x-python",
   "name": "python",
   "nbconvert_exporter": "python",
   "pygments_lexer": "ipython3",
   "version": "3.12.8"
  }
 },
 "nbformat": 4,
 "nbformat_minor": 5
}
